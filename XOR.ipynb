{
  "nbformat": 4,
  "nbformat_minor": 0,
  "metadata": {
    "colab": {
      "provenance": []
    },
    "kernelspec": {
      "name": "python3",
      "display_name": "Python 3"
    },
    "language_info": {
      "name": "python"
    }
  },
  "cells": [
    {
      "cell_type": "code",
      "execution_count": null,
      "metadata": {
        "id": "jYYkXLxdoJC6"
      },
      "outputs": [],
      "source": [
        "import numpy as np\n",
        "import sys\n"
      ]
    },
    {
      "cell_type": "code",
      "source": [
        "X=np.array([[0,0], [0,1], [1, 0], [0, 0]])\n",
        "Wt=np.array([[1, 1], [1, 1], [-1, 1]])\n",
        "Bs=np.array([[-1.5], [-0.5], [-0.5]])"
      ],
      "metadata": {
        "id": "BeD1qS8GoNVH"
      },
      "execution_count": null,
      "outputs": []
    },
    {
      "cell_type": "code",
      "source": [
        "def Summation(x, w, b):\n",
        "  return (np.dot(x, w)+b)"
      ],
      "metadata": {
        "id": "_hd3RzUAorQv"
      },
      "execution_count": null,
      "outputs": []
    },
    {
      "cell_type": "code",
      "source": [
        "def HeavSide(net):\n",
        "  if net>=0:\n",
        "    return 1\n",
        "  else:\n",
        "    return 0"
      ],
      "metadata": {
        "id": "8A49Wz8qo2nH"
      },
      "execution_count": null,
      "outputs": []
    },
    {
      "cell_type": "code",
      "source": [
        "inp=[]\n",
        "k=[]\n",
        "for i in X:\n",
        "  for j in range(2):\n",
        "    out=Summation(i, Wt[j], Bs[j])\n",
        "    k.append(out)\n",
        "for m in k:\n",
        "    y=HeavSide(m)\n",
        "    inp.append(y)\n",
        "\n",
        "stat=0\n",
        "end=1\n",
        "sum=[]\n",
        "while True:\n",
        "  x=np.array([inp[stat], inp[end]])\n",
        "  p=Summation(x, Wt[2], Bs[2])\n",
        "  sum.append(p)\n",
        "  stat+=2\n",
        "  end+=2\n",
        "  if end>len(k):\n",
        "    break\n",
        "\n",
        "y_pred=[]\n",
        "for l in sum:\n",
        "  n=HeavSide(l)\n",
        "  y_pred.append(n)\n",
        "\n",
        "print(y_pred)"
      ],
      "metadata": {
        "colab": {
          "base_uri": "https://localhost:8080/"
        },
        "id": "_oPyqK7go9wH",
        "outputId": "a23d9df2-2e85-4049-e5eb-e286f8b57a8e"
      },
      "execution_count": null,
      "outputs": [
        {
          "output_type": "stream",
          "name": "stdout",
          "text": [
            "[0, 1, 1, 0]\n"
          ]
        }
      ]
    },
    {
      "cell_type": "code",
      "source": [],
      "metadata": {
        "id": "iklqzFfaqDgd"
      },
      "execution_count": null,
      "outputs": []
    }
  ]
}